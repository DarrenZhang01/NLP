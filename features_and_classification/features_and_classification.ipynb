{
 "cells": [
  {
   "cell_type": "markdown",
   "metadata": {},
   "source": [
    "# Features and Classification\n",
    "\n",
    "### Materials from CSC401, prof Frank Rudzicz, University of Toronto -\n",
    "\n",
    "### http://www.cs.toronto.edu/~frank/csc401/lectures2018/4_Features_classification.pdf\n",
    "\n"
   ]
  },
  {
   "cell_type": "markdown",
   "metadata": {},
   "source": [
    "### $\\bullet$ Features"
   ]
  },
  {
   "cell_type": "markdown",
   "metadata": {},
   "source": [
    "#### $\\bullet$ Feature:\n",
    "\n",
    "A measurable **variable** that is (rather, should be) **distinctive** of something we want to model.\n",
    "\n",
    "We usually choose features that are useful to **identify** something, i.e. to do **_classification_**.\n",
    "\n",
    "#### $\\bullet$ Feature Vector: \n",
    "\n",
    "Values for several features of an observation can be put into a single vector.\n",
    "\n",
    "Feature Vectors should be useful in **_discriminating_** between categories."
   ]
  },
  {
   "cell_type": "markdown",
   "metadata": {},
   "source": [
    "#### $\\bullet$ Preprocessing:\n",
    "\n",
    "Preprocessing involves **preparing** your data to make feature extraction easier or more valid"
   ]
  },
  {
   "cell_type": "markdown",
   "metadata": {},
   "source": [
    "$\\bullet$ **Features in Sentiment Analysis:**\n",
    "\n",
    "Sentiment Analysis can involve detecting:\n",
    "\n",
    "> **Stress** or __Frustration__ in a conversation.\n",
    "\n",
    ">  __Interests__, __Confusion__ or __preferences__. Useful to marketers.\n",
    "\n",
    ">  __Lies__."
   ]
  }
 ],
 "metadata": {
  "kernelspec": {
   "display_name": "Python 3",
   "language": "python",
   "name": "python3"
  },
  "language_info": {
   "codemirror_mode": {
    "name": "ipython",
    "version": 3
   },
   "file_extension": ".py",
   "mimetype": "text/x-python",
   "name": "python",
   "nbconvert_exporter": "python",
   "pygments_lexer": "ipython3",
   "version": "3.7.0"
  }
 },
 "nbformat": 4,
 "nbformat_minor": 2
}
