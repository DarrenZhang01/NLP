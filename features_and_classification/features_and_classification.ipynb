{
 "cells": [
  {
   "cell_type": "markdown",
   "metadata": {},
   "source": [
    "# Features and Classification\n",
    "\n",
    "### Materials from CSC401, prof Frank Rudzicz, University of Toronto -\n",
    "\n",
    "### http://www.cs.toronto.edu/~frank/csc401/lectures2018/4_Features_classification.pdf\n",
    "\n"
   ]
  },
  {
   "cell_type": "markdown",
   "metadata": {},
   "source": [
    "### $\\bullet$ Features"
   ]
  },
  {
   "cell_type": "markdown",
   "metadata": {},
   "source": [
    "#### $\\bullet$ Feature:\n",
    "\n",
    "A measurable **variable** that is (rather, should be) **distinctive** of something we want to model.\n",
    "\n",
    "We usually choose features that are useful to **identify** something, i.e. to do **_classification_**.\n",
    "\n",
    "#### $\\bullet$ Feature Vector: \n",
    "\n",
    "Values for several features of an observation can be put into a single vector.\n",
    "\n",
    "Feature Vectors should be useful in **_discriminating_** between categories."
   ]
  },
  {
   "cell_type": "markdown",
   "metadata": {},
   "source": [
    "#### $\\bullet$ Preprocessing:\n",
    "\n",
    "Preprocessing involves **preparing** your data to make feature extraction easier or more valid"
   ]
  },
  {
   "cell_type": "markdown",
   "metadata": {},
   "source": [
    "$\\bullet$ **Features in Sentiment Analysis:**\n",
    "\n",
    "Sentiment Analysis can involve detecting:\n",
    "\n",
    "> **Stress** or __Frustration__ in a conversation.\n",
    "\n",
    ">  __Interests__, __Confusion__ or __preferences__. Useful to marketers.\n",
    "\n",
    ">  __Lies__."
   ]
  },
  {
   "cell_type": "markdown",
   "metadata": {},
   "source": [
    "### $\\bullet$ Parts of Speech"
   ]
  },
  {
   "cell_type": "markdown",
   "metadata": {},
   "source": [
    "$\\bullet$ Linguists like to group words according to their **structural function** in building sentences.\n",
    "\n",
    "$\\bullet$ **Part-of-speech:** lexical category or morphological class.\n",
    "> (e.g. Nouns collectively constiture a part of speech, called _Nouns_)\n",
    "\n",
    "> (other examples: Verb, Adjective, Adverb, Preposition, Pronoun, Determiner, Conjunction, Particles, Auxiliaries, Numerals)"
   ]
  },
  {
   "cell_type": "markdown",
   "metadata": {},
   "source": [
    "$\\bullet$ **Contentful Parts-of-Speech**\n",
    "\n",
    "**Contentful PoS** usually contain more words:\n",
    "\n",
    "e.g. an _app_, to _google_ ..."
   ]
  },
  {
   "cell_type": "markdown",
   "metadata": {},
   "source": [
    "$\\bullet$ **Functional Parts-of-Speech**\n",
    "\n",
    "> **Functional** PoS usually cover a small and fixed number of word types (i.e. a **closed** class)\n",
    "\n",
    "> Their semantics depend on the contentful words with which they are used (i.e. _I' am __on__ time_, _I am __on__ a robot_)"
   ]
  },
  {
   "cell_type": "markdown",
   "metadata": {},
   "source": [
    "$\\bullet$ **Grammatical Features**\n",
    "\n",
    "There are several grammatical features that can be associated with words:\n",
    "\n",
    "> Case \n",
    "\n",
    "> Person\n",
    "\n",
    "> Nnumber\n",
    "\n",
    "> Gender\n",
    "\n",
    "These features can **restrict** other words in a sentence.\n",
    "\n",
    "$\\bullet$ **Grammatical Features - Case:** The grammatical form of a noun or a pronoun\n",
    "\n",
    "> Nominative: the **subject** of a verb\n",
    "\n",
    "> Accusative: the **direct object** of a verb\n",
    "\n",
    "> Dative: the **indirect** object of a verb\n",
    "\n",
    "> Genitive: indicates **posession** (e.g. your **mom**'s book)\n",
    "\n",
    "$\\bullet$ **Grammatical Features - Person:** First, Second, Third\n",
    "\n",
    "$\\bullet$ **Grammatical Features - Number:** broad numerical distinction\n",
    "\n",
    "$\\bullet$ **Grammatical Features - Gender:** typically partitions **nouns** into classes associated with biological gender. **Not** typical in English"
   ]
  },
  {
   "cell_type": "markdown",
   "metadata": {},
   "source": [
    "$\\bullet$ **Agreement**\n",
    "\n",
    "> Parts-of-Speech should match in certain ways.\n",
    "\n",
    "> **Articles** have to agree with the **number** of their **noun**.\n",
    "\n",
    "> **Verbs** have to agree with their **subject**."
   ]
  },
  {
   "cell_type": "markdown",
   "metadata": {},
   "source": [
    "$\\bullet$ **PoS tagging**\n",
    "\n",
    "**Tagging**: the process of **assigning** a **part-of-speech** to each word in a sequence.\n",
    "\n",
    "$\\bullet$ The use of tagging:\n",
    "\n",
    "> **Speech Synthesis:** how to pronounce text (the same word may have different pronunciation in different parts of speech)\n",
    "\n",
    "> **Information Extraction:** quickly find names and relations\n",
    "\n",
    "> **Machines Translation:** Identifying grammaticall chunks is useful"
   ]
  },
  {
   "cell_type": "markdown",
   "metadata": {},
   "source": [
    "$\\bullet$ **Tagging as Classification**\n",
    "\n",
    "We have access to a **sequence of observations** and are expected to decide on the best assignment of a **hidden variable**, i.e. the PoS\n",
    "\n",
    "$\\bullet$ **Rule-based Tagging**\n",
    "\n",
    "> 1. Start with a dictionary\n",
    "\n",
    "> 2. Assign all possible tags to words from that dictionary\n",
    "\n",
    "> 3. Write rules to selectively remove tags"
   ]
  },
  {
   "cell_type": "markdown",
   "metadata": {},
   "source": [
    "$\\bullet$ **Statistical PoS tagging**\n",
    "\n",
    "Determine the **most-likely** tag sequence $t_{1:n}$ by:\n",
    "\n",
    "$$\n",
    "\\underset{t_{1:n}}{\\operatorname{argmax}} P(t_{1:n}|w_{1:n}) = \\underset{t_{1:n}}{\\operatorname{argmax}} P(w_{1:n}|t_{1:n})P(t_{1:n}) \\text{         (Using Baye's Rule)}\n",
    "$$ \n",
    "\n",
    "Thus, \n",
    "\n",
    "$$\n",
    "\\underset{t_{1:n}}{\\operatorname{argmax}} P(t_{1:n}|w_{1:n}) = \\underset{t_{1:n}}{\\operatorname{argmax}} \\displaystyle \\prod_{i}^{n} P(w_i|t_i)P(t_i|t_{i-1}) \\text{        (Assuming independence and assuming Markov)}\n",
    "$$ "
   ]
  }
 ],
 "metadata": {
  "kernelspec": {
   "display_name": "Python 3",
   "language": "python",
   "name": "python3"
  },
  "language_info": {
   "codemirror_mode": {
    "name": "ipython",
    "version": 3
   },
   "file_extension": ".py",
   "mimetype": "text/x-python",
   "name": "python",
   "nbconvert_exporter": "python",
   "pygments_lexer": "ipython3",
   "version": "3.7.0"
  }
 },
 "nbformat": 4,
 "nbformat_minor": 2
}
