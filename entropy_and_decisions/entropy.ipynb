{
 "cells": [
  {
   "cell_type": "markdown",
   "metadata": {},
   "source": [
    "# Entropy and Decisions \n",
    "### Material from CSC401, prof Frank Rudzicz, University of Toronto"
   ]
  },
  {
   "cell_type": "markdown",
   "metadata": {},
   "source": [
    "<b>Entropy</b>: The average amount of information we get in observing the output of source $S$:\n",
    "\n",
    "$$\n",
    "H(S) = \\displaystyle \\sum_{i}p_iI(w_i) = \\displaystyle \\sum_{i}p_i\\log_2 \\frac{1}{p_i}\n",
    "$$\n",
    "\n",
    "It is very similar to how we define the expected value of something:\n",
    "\n",
    "$$\n",
    "E[X] = \\sum_{x\\in X}^{}p(x)x\n",
    "$$"
   ]
  },
  {
   "cell_type": "code",
   "execution_count": null,
   "metadata": {},
   "outputs": [],
   "source": []
  },
  {
   "cell_type": "code",
   "execution_count": null,
   "metadata": {},
   "outputs": [],
   "source": []
  }
 ],
 "metadata": {
  "kernelspec": {
   "display_name": "Python 3",
   "language": "python",
   "name": "python3"
  },
  "language_info": {
   "codemirror_mode": {
    "name": "ipython",
    "version": 3
   },
   "file_extension": ".py",
   "mimetype": "text/x-python",
   "name": "python",
   "nbconvert_exporter": "python",
   "pygments_lexer": "ipython3",
   "version": "3.7.0"
  }
 },
 "nbformat": 4,
 "nbformat_minor": 2
}
